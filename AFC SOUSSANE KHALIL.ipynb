{
 "cells": [
  {
   "cell_type": "markdown",
   "metadata": {},
   "source": [
    "# TP AFC :\n",
    "REALISE PAR SOUSSANE KHALIL\n",
    "# iid2 "
   ]
  },
  {
   "cell_type": "code",
   "execution_count": 123,
   "metadata": {},
   "outputs": [
    {
     "name": "stdout",
     "output_type": "stream",
     "text": [
      "           Droit  Sciences  Médecine  IUT\n",
      "Exp.agri      80        99        65   58\n",
      "Patron       168       137       208   62\n",
      "Cadre.sup    470       400       876   79\n",
      "Employé      145       133       135   54\n",
      "Ouvrier      166       193       127  129\n"
     ]
    }
   ],
   "source": [
    "import numpy as np\n",
    "import pandas as pd\n",
    "data=pd.read_excel(\"CSPfiliere.xlsx\",index_col=0)\n",
    "print(data)\n"
   ]
  },
  {
   "cell_type": "code",
   "execution_count": 124,
   "metadata": {},
   "outputs": [
    {
     "name": "stdout",
     "output_type": "stream",
     "text": [
      "total_col : [1029  962 1411  382]\n",
      "total_ligne: [ 302  575 1825  467  615]\n"
     ]
    }
   ],
   "source": [
    "npdata = data.values\n",
    "#print(npdata)\n",
    "total_col = np.sum(npdata,axis=0)\n",
    "total_ligne=np.sum(npdata,axis=1)\n",
    "print('total_col :',total_col)\n",
    "print('total_ligne:',total_ligne)\n",
    "\n"
   ]
  },
  {
   "cell_type": "code",
   "execution_count": 125,
   "metadata": {},
   "outputs": [
    {
     "name": "stdout",
     "output_type": "stream",
     "text": [
      "[[0.26490066 0.32781457 0.21523179 0.19205298]\n",
      " [0.29217391 0.23826087 0.36173913 0.10782609]\n",
      " [0.25753425 0.21917808 0.48       0.04328767]\n",
      " [0.31049251 0.28479657 0.28907923 0.11563169]\n",
      " [0.2699187  0.31382114 0.20650407 0.2097561 ]]\n"
     ]
    }
   ],
   "source": [
    "prof_ligne=np.apply_along_axis(arr=npdata,axis=1,func1d=lambda x:x/np.sum(x))\n",
    "print(prof_ligne)"
   ]
  },
  {
   "cell_type": "markdown",
   "metadata": {},
   "source": [
    "representation graphique\n"
   ]
  },
  {
   "cell_type": "code",
   "execution_count": 126,
   "metadata": {},
   "outputs": [
    {
     "data": {
      "image/png": "[encoded data removed]",
      "text/plain": [
       "<Figure size 432x288 with 1 Axes>"
      ]
     },
     "metadata": {
      "needs_background": "light"
     },
     "output_type": "display_data"
    }
   ],
   "source": [
    "import matplotlib.pyplot as plt\n",
    "l,c=prof_ligne.shape\n",
    "somme=np.zeros(shape=l)\n",
    "for i in range(c):\n",
    "    plt.barh(range(l),prof_ligne[:,i],left=somme)\n",
    "    somme+=prof_ligne[:,i]\n",
    "plt.yticks(range(l),data.index)\n",
    "plt.show()"
   ]
  },
  {
   "cell_type": "code",
   "execution_count": 127,
   "metadata": {},
   "outputs": [
    {
     "name": "stdout",
     "output_type": "stream",
     "text": [
      "[0.27193446 0.25422833 0.37288584 0.10095137]\n"
     ]
    }
   ],
   "source": [
    "prof_marg_ligne = total_col/np.sum(total_col)\n",
    "print(prof_marg_ligne)"
   ]
  },
  {
   "cell_type": "code",
   "execution_count": 128,
   "metadata": {},
   "outputs": [
    {
     "name": "stdout",
     "output_type": "stream",
     "text": [
      "0.510900786777672\n"
     ]
    }
   ],
   "source": [
    "Dkhi2_cadre_ouvrier= np.sum((prof_ligne[2,:]-prof_ligne[4,:])**2/prof_marg_ligne)\n",
    "print(Dkhi2_cadre_ouvrier) "
   ]
  },
  {
   "cell_type": "markdown",
   "metadata": {},
   "source": [
    "DISTANCE DU KHO-2 ENTRE CARDE ET PATRON"
   ]
  },
  {
   "cell_type": "code",
   "execution_count": 129,
   "metadata": {},
   "outputs": [
    {
     "name": "stdout",
     "output_type": "stream",
     "text": [
      "0.08461088232967051\n"
     ]
    }
   ],
   "source": [
    "Dkhi2_cadre_patron= np.sum((prof_ligne[2,:]-prof_ligne[1,:])**2/prof_marg_ligne)\n",
    "print(Dkhi2_cadre_patron)"
   ]
  },
  {
   "cell_type": "markdown",
   "metadata": {},
   "source": [
    "La distance entre paires de modalités lignes"
   ]
  },
  {
   "cell_type": "code",
   "execution_count": 130,
   "metadata": {},
   "outputs": [
    {
     "name": "stdout",
     "output_type": "stream",
     "text": [
      "           Exp.agri    Patron  Cadre.sup   Employé   Ouvrier\n",
      "Exp.agri        0.0  0.162117   0.453847  0.087400  0.004172\n",
      "Patron          0.0  0.000000   0.084611  0.024514  0.191823\n",
      "Cadre.sup       0.0  0.000000   0.000000  0.176847  0.510901\n",
      "Employé         0.0  0.000000   0.000000  0.000000  0.115413\n",
      "Ouvrier         0.0  0.000000   0.000000  0.000000  0.000000\n"
     ]
    }
   ],
   "source": [
    "\n",
    "distPairesLig = np.zeros(shape=(l,l))\n",
    "for i in range(l-1):\n",
    "  for j in range(i+1,l):\n",
    "     distPairesLig[i,j] = np.sum((prof_ligne[i,:]-prof_ligne[j,:])**2/prof_marg_ligne)\n",
    " \n",
    "pd = pd.DataFrame(distPairesLig,index=data.index,columns=data.index)\n",
    "print(pd)\n"
   ]
  },
  {
   "cell_type": "markdown",
   "metadata": {},
   "source": [
    "heatmap"
   ]
  },
  {
   "cell_type": "code",
   "execution_count": 131,
   "metadata": {},
   "outputs": [
    {
     "data": {
      "text/plain": [
       "<AxesSubplot:>"
      ]
     },
     "execution_count": 131,
     "metadata": {},
     "output_type": "execute_result"
    },
    {
     "data": {
      "image/png": "[encoded data removed]",
      "text/plain": [
       "<Figure size 432x288 with 2 Axes>"
      ]
     },
     "metadata": {
      "needs_background": "light"
     },
     "output_type": "display_data"
    }
   ],
   "source": [
    "import seaborn as sns\n",
    "sns.heatmap(distPairesLig,vmin=0,vmax=np.max(distPairesLig),linewidth=0.1,cmap='Blues',xticklabels=data.index,\n",
    "yticklabels=data.index)\n"
   ]
  },
  {
   "cell_type": "markdown",
   "metadata": {},
   "source": [
    "Distance a l'origine"
   ]
  },
  {
   "cell_type": "code",
   "execution_count": 132,
   "metadata": {},
   "outputs": [
    {
     "name": "stdout",
     "output_type": "stream",
     "text": [
      "[0.17034955 0.00331062 0.0693019  0.03011317 0.2054925 ]\n",
      "                  0\n",
      "Exp.agri   0.170350\n",
      "Patron     0.003311\n",
      "Cadre.sup  0.069302\n",
      "Employé    0.030113\n",
      "Ouvrier    0.205492\n"
     ]
    }
   ],
   "source": [
    "import pandas as pd\n",
    "distoLig = np.apply_along_axis(arr=prof_ligne,axis=1,func1d=lambda x:np.sum((x-prof_marg_ligne)**2/prof_marg_ligne))\n",
    "print(distoLig)\n",
    "dfp=pd.DataFrame(distoLig,data.index)\n",
    "print(dfp)"
   ]
  },
  {
   "cell_type": "markdown",
   "metadata": {},
   "source": [
    " poids des lignes"
   ]
  },
  {
   "cell_type": "code",
   "execution_count": 133,
   "metadata": {},
   "outputs": [
    {
     "name": "stdout",
     "output_type": "stream",
     "text": [
      "[0.07980973 0.1519556  0.48229387 0.12341438 0.16252643]\n"
     ]
    }
   ],
   "source": [
    "poids_ligne=total_ligne/np.sum(total_ligne)\n",
    "print(poids_ligne)"
   ]
  },
  {
   "cell_type": "markdown",
   "metadata": {},
   "source": [
    "inertie des lignes"
   ]
  },
  {
   "cell_type": "markdown",
   "metadata": {},
   "source": []
  },
  {
   "cell_type": "code",
   "execution_count": 134,
   "metadata": {},
   "outputs": [
    {
     "name": "stdout",
     "output_type": "stream",
     "text": [
      "[0.01359555 0.00050307 0.03342388 0.0037164  0.03339796]\n"
     ]
    }
   ],
   "source": [
    "intertie_ligne=distoLig*poids_ligne\n",
    "print(intertie_ligne)"
   ]
  },
  {
   "cell_type": "markdown",
   "metadata": {},
   "source": [
    "AFFICHAGE"
   ]
  },
  {
   "cell_type": "code",
   "execution_count": 138,
   "metadata": {},
   "outputs": [
    {
     "name": "stdout",
     "output_type": "stream",
     "text": [
      "             Disto2     Poids   Inertie\n",
      "Exp.agri   0.170350  0.079810  0.013596\n",
      "Patron     0.003311  0.151956  0.000503\n",
      "Cadre.sup  0.069302  0.482294  0.033424\n",
      "Employé    0.030113  0.123414  0.003716\n",
      "Ouvrier    0.205492  0.162526  0.033398\n"
     ]
    }
   ],
   "source": [
    "print(pd.DataFrame(np.transpose([distoLig,poids_ligne,intertie_ligne]),columns=['Disto2','Poids','Inertie'] ,index=data.index))"
   ]
  },
  {
   "cell_type": "markdown",
   "metadata": {},
   "source": [
    "totale inertie"
   ]
  },
  {
   "cell_type": "code",
   "execution_count": 139,
   "metadata": {},
   "outputs": [
    {
     "name": "stdout",
     "output_type": "stream",
     "text": [
      "0.08463685828547157\n"
     ]
    }
   ],
   "source": [
    "tot_InertieLig = np.sum(intertie_ligne)\n",
    "print(tot_InertieLig)"
   ]
  },
  {
   "cell_type": "markdown",
   "metadata": {},
   "source": [
    "AFC"
   ]
  },
  {
   "cell_type": "code",
   "execution_count": 144,
   "metadata": {},
   "outputs": [
    {
     "data": {
      "text/html": [
       "<style>#sk-container-id-1 {color: black;background-color: white;}#sk-container-id-1 pre{padding: 0;}#sk-container-id-1 div.sk-toggleable {background-color: white;}#sk-container-id-1 label.sk-toggleable__label {cursor: pointer;display: block;width: 100%;margin-bottom: 0;padding: 0.3em;box-sizing: border-box;text-align: center;}#sk-container-id-1 label.sk-toggleable__label-arrow:before {content: \"▸\";float: left;margin-right: 0.25em;color: #696969;}#sk-container-id-1 label.sk-toggleable__label-arrow:hover:before {color: black;}#sk-container-id-1 div.sk-estimator:hover label.sk-toggleable__label-arrow:before {color: black;}#sk-container-id-1 div.sk-toggleable__content {max-height: 0;max-width: 0;overflow: hidden;text-align: left;background-color: #f0f8ff;}#sk-container-id-1 div.sk-toggleable__content pre {margin: 0.2em;color: black;border-radius: 0.25em;background-color: #f0f8ff;}#sk-container-id-1 input.sk-toggleable__control:checked~div.sk-toggleable__content {max-height: 200px;max-width: 100%;overflow: auto;}#sk-container-id-1 input.sk-toggleable__control:checked~label.sk-toggleable__label-arrow:before {content: \"▾\";}#sk-container-id-1 div.sk-estimator input.sk-toggleable__control:checked~label.sk-toggleable__label {background-color: #d4ebff;}#sk-container-id-1 div.sk-label input.sk-toggleable__control:checked~label.sk-toggleable__label {background-color: #d4ebff;}#sk-container-id-1 input.sk-hidden--visually {border: 0;clip: rect(1px 1px 1px 1px);clip: rect(1px, 1px, 1px, 1px);height: 1px;margin: -1px;overflow: hidden;padding: 0;position: absolute;width: 1px;}#sk-container-id-1 div.sk-estimator {font-family: monospace;background-color: #f0f8ff;border: 1px dotted black;border-radius: 0.25em;box-sizing: border-box;margin-bottom: 0.5em;}#sk-container-id-1 div.sk-estimator:hover {background-color: #d4ebff;}#sk-container-id-1 div.sk-parallel-item::after {content: \"\";width: 100%;border-bottom: 1px solid gray;flex-grow: 1;}#sk-container-id-1 div.sk-label:hover label.sk-toggleable__label {background-color: #d4ebff;}#sk-container-id-1 div.sk-serial::before {content: \"\";position: absolute;border-left: 1px solid gray;box-sizing: border-box;top: 0;bottom: 0;left: 50%;z-index: 0;}#sk-container-id-1 div.sk-serial {display: flex;flex-direction: column;align-items: center;background-color: white;padding-right: 0.2em;padding-left: 0.2em;position: relative;}#sk-container-id-1 div.sk-item {position: relative;z-index: 1;}#sk-container-id-1 div.sk-parallel {display: flex;align-items: stretch;justify-content: center;background-color: white;position: relative;}#sk-container-id-1 div.sk-item::before, #sk-container-id-1 div.sk-parallel-item::before {content: \"\";position: absolute;border-left: 1px solid gray;box-sizing: border-box;top: 0;bottom: 0;left: 50%;z-index: -1;}#sk-container-id-1 div.sk-parallel-item {display: flex;flex-direction: column;z-index: 1;position: relative;background-color: white;}#sk-container-id-1 div.sk-parallel-item:first-child::after {align-self: flex-end;width: 50%;}#sk-container-id-1 div.sk-parallel-item:last-child::after {align-self: flex-start;width: 50%;}#sk-container-id-1 div.sk-parallel-item:only-child::after {width: 0;}#sk-container-id-1 div.sk-dashed-wrapped {border: 1px dashed gray;margin: 0 0.4em 0.5em 0.4em;box-sizing: border-box;padding-bottom: 0.4em;background-color: white;}#sk-container-id-1 div.sk-label label {font-family: monospace;font-weight: bold;display: inline-block;line-height: 1.2em;}#sk-container-id-1 div.sk-label-container {text-align: center;}#sk-container-id-1 div.sk-container {/* jupyter's `normalize.less` sets `[hidden] { display: none; }` but bootstrap.min.css set `[hidden] { display: none !important; }` so we also need the `!important` here to be able to override the default hidden behavior on the sphinx rendered scikit-learn.org. See: https://github.com/scikit-learn/scikit-learn/issues/21755 */display: inline-block !important;position: relative;}#sk-container-id-1 div.sk-text-repr-fallback {display: none;}</style><div id=\"sk-container-id-1\" class=\"sk-top-container\"><div class=\"sk-text-repr-fallback\"><pre>CA(col_labels=Index([&#x27;Droit&#x27;, &#x27;Sciences&#x27;, &#x27;Médecine&#x27;, &#x27;IUT&#x27;], dtype=&#x27;object&#x27;),\n",
       "   row_labels=Index([&#x27;Exp.agri&#x27;, &#x27;Patron&#x27;, &#x27;Cadre.sup&#x27;, &#x27;Employé&#x27;, &#x27;Ouvrier&#x27;], dtype=&#x27;object&#x27;))</pre><b>In a Jupyter environment, please rerun this cell to show the HTML representation or trust the notebook. <br />On GitHub, the HTML representation is unable to render, please try loading this page with nbviewer.org.</b></div><div class=\"sk-container\" hidden><div class=\"sk-item\"><div class=\"sk-estimator sk-toggleable\"><input class=\"sk-toggleable__control sk-hidden--visually\" id=\"sk-estimator-id-1\" type=\"checkbox\" checked><label for=\"sk-estimator-id-1\" class=\"sk-toggleable__label sk-toggleable__label-arrow\">CA</label><div class=\"sk-toggleable__content\"><pre>CA(col_labels=Index([&#x27;Droit&#x27;, &#x27;Sciences&#x27;, &#x27;Médecine&#x27;, &#x27;IUT&#x27;], dtype=&#x27;object&#x27;),\n",
       "   row_labels=Index([&#x27;Exp.agri&#x27;, &#x27;Patron&#x27;, &#x27;Cadre.sup&#x27;, &#x27;Employé&#x27;, &#x27;Ouvrier&#x27;], dtype=&#x27;object&#x27;))</pre></div></div></div></div></div>"
      ],
      "text/plain": [
       "CA(col_labels=Index(['Droit', 'Sciences', 'Médecine', 'IUT'], dtype='object'),\n",
       "   row_labels=Index(['Exp.agri', 'Patron', 'Cadre.sup', 'Employé', 'Ouvrier'], dtype='object'))"
      ]
     },
     "execution_count": 144,
     "metadata": {},
     "output_type": "execute_result"
    }
   ],
   "source": [
    "from fanalysis.ca import CA\n",
    "import scipy\n",
    "afc = CA(row_labels=data.index,col_labels=data.columns)\n",
    "afc.fit(data.values)"
   ]
  },
  {
   "cell_type": "markdown",
   "metadata": {},
   "source": [
    "information restituée sur les facteurs"
   ]
  },
  {
   "cell_type": "code",
   "execution_count": 145,
   "metadata": {},
   "outputs": [
    {
     "name": "stdout",
     "output_type": "stream",
     "text": [
      "[0.0823936  0.00170345 0.00053981]\n",
      "[97.34955225  2.01265584  0.63779191]\n",
      "[ 97.34955225  99.36220809 100.        ]\n",
      "                  0         1         2\n",
      "Exp.agri   0.410115 -0.026253  0.038284\n",
      "Patron     0.020151  0.026585 -0.046881\n",
      "Cadre.sup -0.262717 -0.015596  0.006199\n",
      "Employé    0.142090  0.097326  0.021242\n",
      "Ouvrier    0.451481 -0.039588 -0.009493\n"
     ]
    }
   ],
   "source": [
    "[print(x) for x in afc.eig_]\n",
    "y = pd.DataFrame(afc.row_coord_,index=data.index)\n",
    "print(y)"
   ]
  },
  {
   "cell_type": "markdown",
   "metadata": {},
   "source": [
    "affichage des valeurs propres"
   ]
  },
  {
   "cell_type": "code",
   "execution_count": 146,
   "metadata": {},
   "outputs": [
    {
     "data": {
      "image/png": "[encoded data removed]",
      "text/plain": [
       "<Figure size 432x288 with 1 Axes>"
      ]
     },
     "metadata": {
      "needs_background": "light"
     },
     "output_type": "display_data"
    }
   ],
   "source": [
    "afc.plot_eigenvalues()"
   ]
  },
  {
   "cell_type": "markdown",
   "metadata": {},
   "source": [
    "représentation des individus lignes dans le premier plan factoriel qui restitue 99.36% de l’information disponible."
   ]
  },
  {
   "cell_type": "code",
   "execution_count": 148,
   "metadata": {},
   "outputs": [
    {
     "data": {
      "image/png": "[encoded data removed]",
      "text/plain": [
       "<Figure size 720x720 with 1 Axes>"
      ]
     },
     "metadata": {
      "needs_background": "light"
     },
     "output_type": "display_data"
    }
   ],
   "source": [
    "fig, ax = plt.subplots(figsize=(10,10))\n",
    "ax.axis([-0.5,+0.5,-0.5,+0.5])\n",
    "ax.plot([-0.5,+0.5],[0,0],color='red',linestyle='--')\n",
    "ax.plot([0,0],[-0.5,+0.5],color='red',linestyle='--')\n",
    "ax.set_xlabel(\"Dim.1 (97.35% )\")\n",
    "ax.set_ylabel(\"Dim.2 (2.01%)\")\n",
    "plt.title(\"Carte des modalités lignes\")\n",
    "for i in range(data.shape[0]):\n",
    " ax.text(afc.row_coord_[i,0],afc.row_coord_[i,1],data.index[i])\n",
    "\n",
    "plt.show()"
   ]
  },
  {
   "cell_type": "markdown",
   "metadata": {},
   "source": [
    "distance euclidienne de le 1er plan"
   ]
  },
  {
   "cell_type": "code",
   "execution_count": 149,
   "metadata": {},
   "outputs": [
    {
     "name": "stdout",
     "output_type": "stream",
     "text": [
      "           Exp.agri    Patron  Cadre.sup   Employé   Ouvrier\n",
      "Exp.agri   0.000000  0.152072   0.452704  0.071837  0.001711\n",
      "Patron     0.152072  0.000000   0.080014  0.014869  0.186046\n",
      "Cadre.sup  0.452704  0.080014   0.000000  0.163869  0.510079\n",
      "Employé    0.071837  0.014869   0.163869  0.000000  0.095723\n",
      "Ouvrier    0.000000  0.000000   0.000000  0.000000  0.000000\n"
     ]
    }
   ],
   "source": [
    "distPairesLigF1 = np.zeros(shape=(prof_ligne.shape[0],prof_ligne.shape[0]))\n",
    "for i in range(prof_ligne.shape[0]-1):\n",
    "   for j in range(0,prof_ligne.shape[0]):\n",
    "      distPairesLigF1[i,j] = np.sum((afc.row_coord_[i,0]-afc.row_coord_[j,0])**2)\n",
    "y = pd.DataFrame(distPairesLigF1,index=data.index,columns=data.index)\n",
    "print(y)"
   ]
  },
  {
   "cell_type": "markdown",
   "metadata": {},
   "source": [
    "profile moyen des filieres"
   ]
  },
  {
   "cell_type": "code",
   "execution_count": 151,
   "metadata": {},
   "outputs": [
    {
     "name": "stdout",
     "output_type": "stream",
     "text": [
      "0.07980972515856237\n",
      "0.15195560253699789\n",
      "0.4822938689217759\n",
      "0.12341437632135306\n",
      "0.1625264270613108\n"
     ]
    },
    {
     "data": {
      "text/plain": [
       "[None, None, None, None, None]"
      ]
     },
     "execution_count": 151,
     "metadata": {},
     "output_type": "execute_result"
    }
   ],
   "source": [
    "prof_marg_col = total_ligne/np.sum(total_ligne)\n",
    "[print(x) for x in prof_marg_col]"
   ]
  },
  {
   "cell_type": "markdown",
   "metadata": {},
   "source": [
    "profile par filiere"
   ]
  },
  {
   "cell_type": "code",
   "execution_count": 152,
   "metadata": {},
   "outputs": [
    {
     "name": "stdout",
     "output_type": "stream",
     "text": [
      "              Droit  Sciences  Médecine       IUT\n",
      "Exp.agri   0.077745  0.102911  0.046067  0.151832\n",
      "Patron     0.163265  0.142412  0.147413  0.162304\n",
      "Cadre.sup  0.456754  0.415800  0.620836  0.206806\n",
      "Employé    0.140914  0.138254  0.095677  0.141361\n",
      "Ouvrier    0.161322  0.200624  0.090007  0.337696\n"
     ]
    }
   ],
   "source": [
    "prof_col = np.apply_along_axis(arr=data.values,axis=0,func1d=lambda x:x/np.sum(x))\n",
    "print(pd.DataFrame(prof_col,index=data.index,columns=data.columns))"
   ]
  },
  {
   "cell_type": "markdown",
   "metadata": {},
   "source": [
    "distance a l'origine"
   ]
  },
  {
   "cell_type": "code",
   "execution_count": 153,
   "metadata": {},
   "outputs": [
    {
     "name": "stdout",
     "output_type": "stream",
     "text": [
      "                 0\n",
      "Droit     0.004738\n",
      "Sciences  0.027168\n",
      "Médecine  0.092792\n",
      "IUT       0.414466\n"
     ]
    }
   ],
   "source": [
    "distoCol = np.apply_along_axis(arr=prof_col,axis=0,func1d=lambda x:np.sum((x\n",
    "-prof_marg_col)**2/prof_marg_col))\n",
    "print(pd.DataFrame(distoCol,index=data.columns))"
   ]
  },
  {
   "cell_type": "markdown",
   "metadata": {},
   "source": [
    "les poids des filieres"
   ]
  },
  {
   "cell_type": "code",
   "execution_count": 155,
   "metadata": {},
   "outputs": [
    {
     "name": "stdout",
     "output_type": "stream",
     "text": [
      "                 0\n",
      "Droit     0.271934\n",
      "Sciences  0.254228\n",
      "Médecine  0.372886\n",
      "IUT       0.100951\n"
     ]
    }
   ],
   "source": [
    "poidsCol = total_col/np.sum(total_col)\n",
    "print(pd.DataFrame(poidsCol,index=data.columns))"
   ]
  },
  {
   "cell_type": "code",
   "execution_count": 156,
   "metadata": {},
   "outputs": [
    {
     "name": "stdout",
     "output_type": "stream",
     "text": [
      "                 0\n",
      "Droit     0.001288\n",
      "Sciences  0.006907\n",
      "Médecine  0.034601\n",
      "IUT       0.041841\n"
     ]
    }
   ],
   "source": [
    "inertieCol = distoCol*poidsCol\n",
    "print(pd.DataFrame(inertieCol,index=data.columns))"
   ]
  },
  {
   "cell_type": "code",
   "execution_count": 157,
   "metadata": {},
   "outputs": [
    {
     "name": "stdout",
     "output_type": "stream",
     "text": [
      "0.08463685828547156\n"
     ]
    }
   ],
   "source": [
    "print(np.sum(inertieCol))"
   ]
  },
  {
   "cell_type": "code",
   "execution_count": 158,
   "metadata": {},
   "outputs": [
    {
     "name": "stdout",
     "output_type": "stream",
     "text": [
      "                 0         1         2\n",
      "Droit     0.027987  0.060669 -0.016545\n",
      "Sciences  0.160462  0.002734  0.037583\n",
      "Médecine -0.303125 -0.029662 -0.005200\n",
      "IUT       0.640174 -0.060749 -0.030870\n"
     ]
    }
   ],
   "source": [
    "print(pd.DataFrame(afc.col_coord_,index=data.columns))"
   ]
  },
  {
   "cell_type": "markdown",
   "metadata": {},
   "source": [
    "representation graphique"
   ]
  },
  {
   "cell_type": "code",
   "execution_count": 159,
   "metadata": {},
   "outputs": [
    {
     "data": {
      "image/png": "[encoded data removed]",
      "text/plain": [
       "<Figure size 720x720 with 1 Axes>"
      ]
     },
     "metadata": {
      "needs_background": "light"
     },
     "output_type": "display_data"
    }
   ],
   "source": [
    "fig, ax = plt.subplots(figsize=(10,10))\n",
    "ax.axis([-0.7,+0.7,-0.7,+0.7])\n",
    "ax.plot([-0.7,+0.7],[0,0],color='blue',linestyle='--')\n",
    "ax.plot([0,0],[-0.7,+0.7],color='blue',linestyle='--')\n",
    "ax.set_xlabel(\"Dim.1 (97.35% )\")\n",
    "ax.set_ylabel(\"Dim.2 (2.01%)\")\n",
    "plt.title(\"Carte des modalités colonnes\")\n",
    "for i in range(data.shape[1]):\n",
    "   ax.text(afc.col_coord_[i,0],afc.col_coord_[i,1],data.columns[i])\n",
    "plt.show()"
   ]
  },
  {
   "cell_type": "code",
   "execution_count": 160,
   "metadata": {},
   "outputs": [
    {
     "name": "stdout",
     "output_type": "stream",
     "text": [
      "3784\n"
     ]
    }
   ],
   "source": [
    "n = np.sum(npdata)\n",
    "print(n)\n"
   ]
  },
  {
   "cell_type": "markdown",
   "metadata": {},
   "source": [
    "tableau sous independance"
   ]
  },
  {
   "cell_type": "code",
   "execution_count": 161,
   "metadata": {},
   "outputs": [
    {
     "name": "stdout",
     "output_type": "stream",
     "text": [
      "[ 82.12420719  76.7769556  112.6115222   30.48731501]\n",
      "[156.36231501 146.18128964 214.40935518  58.04704017]\n",
      "[496.28039112 463.9667019  680.51664905 184.23625793]\n",
      "[126.99339323 118.72463002 174.13768499  47.14429175]\n",
      "[167.23969345 156.35042283 229.32478858  62.08509514]\n"
     ]
    },
    {
     "data": {
      "text/plain": [
       "[None, None, None, None, None]"
      ]
     },
     "execution_count": 161,
     "metadata": {},
     "output_type": "execute_result"
    }
   ],
   "source": [
    "E = np.dot(np.reshape(total_ligne,(5,1)),np.reshape(total_col,(1,4)))/n\n",
    "[print(x) for x in E]"
   ]
  },
  {
   "cell_type": "markdown",
   "metadata": {},
   "source": [
    "KHI-2"
   ]
  },
  {
   "cell_type": "code",
   "execution_count": 162,
   "metadata": {},
   "outputs": [
    {
     "name": "stdout",
     "output_type": "stream",
     "text": [
      "320.2658717522244\n"
     ]
    }
   ],
   "source": [
    "KHI2 = np.sum(((npdata-E)**2)/E)\n",
    "print(KHI2)"
   ]
  },
  {
   "cell_type": "markdown",
   "metadata": {},
   "source": [
    "Degre de liberté"
   ]
  },
  {
   "cell_type": "code",
   "execution_count": 163,
   "metadata": {},
   "outputs": [
    {
     "name": "stdout",
     "output_type": "stream",
     "text": [
      "12\n"
     ]
    }
   ],
   "source": [
    "ddl = (E.shape[0]-1)*(E.shape[1]-1)\n",
    "print(ddl)"
   ]
  },
  {
   "cell_type": "code",
   "execution_count": 164,
   "metadata": {},
   "outputs": [
    {
     "name": "stdout",
     "output_type": "stream",
     "text": [
      "0.0\n"
     ]
    }
   ],
   "source": [
    "print(1-scipy.stats.chi2.cdf(KHI2,ddl))"
   ]
  },
  {
   "cell_type": "code",
   "execution_count": 166,
   "metadata": {},
   "outputs": [
    {
     "data": {
      "image/png": "[encoded data removed]",
      "text/plain": [
       "<Figure size 720x720 with 1 Axes>"
      ]
     },
     "metadata": {
      "needs_background": "light"
     },
     "output_type": "display_data"
    }
   ],
   "source": [
    "fig, ax = plt.subplots(figsize=(10,10))\n",
    "ax.axis([-0.7,+0.7,-0.7,+0.7])\n",
    "ax.plot([-0.7,+0.7],[0,0],color='silver',linestyle='--')\n",
    "ax.plot([0,0],[-0.7,+0.7],color='silver',linestyle='--')\n",
    "ax.set_xlabel(\"Dim.1 (97.35% )\")\n",
    "ax.set_ylabel(\"Dim.2 (2.01%)\")\n",
    "plt.title(\"Carte des modalités lignes et colonnes\")\n",
    "for i in range(data.shape[0]):\n",
    " ax.text(afc.row_coord_[i,0],afc.row_coord_[i,1],data.index[i],color='red')\n",
    "for i in range(data.shape[1]):\n",
    " ax.text(afc.col_coord_[i,0],afc.col_coord_[i,1],data.columns[i],color='green')"
   ]
  }
 ],
 "metadata": {
  "kernelspec": {
   "display_name": "Python 3 (ipykernel)",
   "language": "python",
   "name": "python3"
  },
  "language_info": {
   "codemirror_mode": {
    "name": "ipython",
    "version": 3
   },
   "file_extension": ".py",
   "mimetype": "text/x-python",
   "name": "python",
   "nbconvert_exporter": "python",
   "pygments_lexer": "ipython3",
   "version": "3.10.6"
  },
  "vscode": {
   "interpreter": {
    "hash": "63963b3f4c440940f0b94a3100916033a226cb4f45979123153792d60aa56d6a"
   }
  }
 },
 "nbformat": 4,
 "nbformat_minor": 2
}
